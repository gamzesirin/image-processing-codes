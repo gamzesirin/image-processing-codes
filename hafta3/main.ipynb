{
 "cells": [
  {
   "cell_type": "code",
   "execution_count": 4,
   "id": "initial_id",
   "metadata": {
    "ExecuteTime": {
     "end_time": "2025-02-27T15:31:18.582470Z",
     "start_time": "2025-02-27T15:31:18.572183Z"
    },
    "collapsed": true
   },
   "outputs": [],
   "source": [
    "import cv2 #open cv import ettim\n",
    "import numpy as np #numpy import ettim\n",
    "import matplotlib.pyplot as plt #matplotlib import ettim"
   ]
  },
  {
   "cell_type": "code",
   "execution_count": 8,
   "id": "cd785a8a5e6270da",
   "metadata": {
    "ExecuteTime": {
     "end_time": "2025-02-27T15:33:55.362762Z",
     "start_time": "2025-02-27T15:33:55.350742Z"
    }
   },
   "outputs": [
    {
     "name": "stdout",
     "output_type": "stream",
     "text": [
      "4.11.0\n",
      "(384, 512, 3)\n",
      "<class 'numpy.ndarray'>\n",
      "3\n",
      "uint8\n"
     ]
    }
   ],
   "source": [
    "print(cv2.__version__) # open cv nin versiyonunu yazdırdım (4.11.0 çıktı)\n",
    "I = cv2.imread('../images/peppers.png',1) #resmi okuttum   default : 1 oluyor istersek yazabiliriz\n",
    "print(I.shape) #resmin boyutlarını yazdırdım\n",
    "print(type(I)) #resmin tipini yazdırdım\n",
    "print(I.ndim) #resmin boyut sayısını yazdırdım   matrsinin boyutu   satır sütun ,  3 bgr demek 0 1 2 olur yatayda uzun\n",
    "print(I.dtype) #resmin veri tipini yazdırdım"
   ]
  },
  {
   "cell_type": "code",
   "execution_count": 10,
   "id": "6f1c66db063ccad1",
   "metadata": {
    "ExecuteTime": {
     "end_time": "2025-02-27T15:34:31.694684Z",
     "start_time": "2025-02-27T15:34:31.686425Z"
    }
   },
   "outputs": [
    {
     "name": "stdout",
     "output_type": "stream",
     "text": [
      "[65 33 68]\n",
      "[0 0 0]\n",
      "[0 0 0]\n"
     ]
    }
   ],
   "source": [
    "print(I[10,10]) # matristeki 10,10 olan pikselin bgr değerlerini yazdırdım\n",
    "I2=I #ı yı ı2 ye atadım bunlar heapte tutuluyor aynı yerdeler birinde yapılan değişiklik diğerini de etkiler\n",
    "# I2=I.copy() #doğru olan bu bunlar heapte tutuluyor aynı yerdeler\n",
    "I2[10,10]=[0,0,0] # I2 de 10,10 olan pikselin bgr değerlerini 0,0,0 yaptım\n",
    "print(I[10,10])\n",
    "print(I2[10,10])"
   ]
  },
  {
   "cell_type": "code",
   "execution_count": 12,
   "id": "8e8ff485cae49c9",
   "metadata": {
    "ExecuteTime": {
     "end_time": "2025-02-27T15:35:22.980838Z",
     "start_time": "2025-02-27T15:35:21.101510Z"
    }
   },
   "outputs": [],
   "source": [
    "cv2.imshow('peppers1',I) #resmi gösterdim\n",
    "cv2.waitKey(0) #bekleme süresi\n",
    "cv2.destroyAllWindows() #pencereleri kapatma"
   ]
  },
  {
   "cell_type": "code",
   "execution_count": 13,
   "id": "b3d95aa145515b1a",
   "metadata": {
    "ExecuteTime": {
     "end_time": "2025-02-27T15:35:46.382886Z",
     "start_time": "2025-02-27T15:35:43.424688Z"
    }
   },
   "outputs": [
    {
     "name": "stdout",
     "output_type": "stream",
     "text": [
      "(300, 500, 3)\n",
      "uint8\n"
     ]
    }
   ],
   "source": [
    "I3=np.random.random((300,500,3)) #300x500x3 lük bir matris oluşturdum\n",
    "print(I3.shape) #boyutlarını yazdırdım\n",
    "I3=np.uint8(np.round(I3*255)) # veri tipini değiştirdim\n",
    "print(I3.dtype) #veri tipini yazdırdım\n",
    "\n",
    "cv2.imshow('random1',I3) #resmi gösterdim\n",
    "cv2.waitKey(0) #bekleme süresi\n",
    "cv2.destroyAllWindows() #pencereleri kapatma"
   ]
  },
  {
   "cell_type": "code",
   "execution_count": 15,
   "id": "1a798aab75c0cb40",
   "metadata": {
    "ExecuteTime": {
     "end_time": "2025-02-27T15:36:15.385914Z",
     "start_time": "2025-02-27T15:36:15.102063Z"
    }
   },
   "outputs": [],
   "source": [
    "##############################################\n",
    "I8=cv2.cvtColor(I3,cv2.COLOR_BGR2GRAY)\n",
    "cv2.imshow('random1',I8) #resmi gösterdim\n",
    "cv2.waitKey(0) #bekleme süresi\n",
    "cv2.destroyAllWindows() #pencereleri kapatma"
   ]
  },
  {
   "cell_type": "code",
   "execution_count": null,
   "id": "a7bfdaddae689817",
   "metadata": {},
   "outputs": [],
   "source": [
    "plt.imshow(I)\n",
    "plt.waitforbuttonpress()\n",
    "plt.close()"
   ]
  },
  {
   "cell_type": "code",
   "execution_count": 24,
   "id": "dfa34ff853e63823",
   "metadata": {
    "ExecuteTime": {
     "end_time": "2025-02-27T15:40:19.315331Z",
     "start_time": "2025-02-27T15:40:15.327091Z"
    }
   },
   "outputs": [
    {
     "name": "stdout",
     "output_type": "stream",
     "text": [
      "(384, 512, 3)\n",
      "uint8\n",
      "[0 0 0]\n",
      "[[[0 0 0]\n",
      "  [0 0 0]\n",
      "  [0 0 0]\n",
      "  ...\n",
      "  [0 0 0]\n",
      "  [0 0 0]\n",
      "  [0 0 0]]\n",
      "\n",
      " [[0 0 0]\n",
      "  [0 0 0]\n",
      "  [0 0 0]\n",
      "  ...\n",
      "  [0 0 0]\n",
      "  [0 0 0]\n",
      "  [0 0 0]]\n",
      "\n",
      " [[0 0 0]\n",
      "  [0 0 0]\n",
      "  [0 0 0]\n",
      "  ...\n",
      "  [0 0 0]\n",
      "  [0 0 0]\n",
      "  [0 0 0]]\n",
      "\n",
      " ...\n",
      "\n",
      " [[0 0 0]\n",
      "  [0 0 0]\n",
      "  [0 0 0]\n",
      "  ...\n",
      "  [0 0 0]\n",
      "  [0 0 0]\n",
      "  [0 0 0]]\n",
      "\n",
      " [[0 0 0]\n",
      "  [0 0 0]\n",
      "  [0 0 0]\n",
      "  ...\n",
      "  [0 0 0]\n",
      "  [0 0 0]\n",
      "  [0 0 0]]\n",
      "\n",
      " [[0 0 0]\n",
      "  [0 0 0]\n",
      "  [0 0 0]\n",
      "  ...\n",
      "  [0 0 0]\n",
      "  [0 0 0]\n",
      "  [0 0 0]]]\n",
      "(384, 512)\n"
     ]
    },
    {
     "name": "stderr",
     "output_type": "stream",
     "text": [
      "C:\\Users\\Gamze Şirin\\AppData\\Local\\Temp\\ipykernel_20912\\2882787887.py:19: UserWarning: FigureCanvasAgg is non-interactive, and thus cannot be shown\n",
      "  plt.waitforbuttonpress(0)\n"
     ]
    },
    {
     "ename": "KeyboardInterrupt",
     "evalue": "",
     "output_type": "error",
     "traceback": [
      "\u001b[1;31m---------------------------------------------------------------------------\u001b[0m",
      "\u001b[1;31mKeyboardInterrupt\u001b[0m                         Traceback (most recent call last)",
      "Cell \u001b[1;32mIn[24], line 19\u001b[0m\n\u001b[0;32m     17\u001b[0m plt\u001b[38;5;241m.\u001b[39mfigure()\n\u001b[0;32m     18\u001b[0m plt\u001b[38;5;241m.\u001b[39mimshow(I4)\n\u001b[1;32m---> 19\u001b[0m \u001b[43mplt\u001b[49m\u001b[38;5;241;43m.\u001b[39;49m\u001b[43mwaitforbuttonpress\u001b[49m\u001b[43m(\u001b[49m\u001b[38;5;241;43m0\u001b[39;49m\u001b[43m)\u001b[49m\n\u001b[0;32m     20\u001b[0m plt\u001b[38;5;241m.\u001b[39mclose()\n",
      "File \u001b[1;32m~\\AppData\\Roaming\\Python\\Python39\\site-packages\\matplotlib\\pyplot.py:2721\u001b[0m, in \u001b[0;36mwaitforbuttonpress\u001b[1;34m(timeout)\u001b[0m\n\u001b[0;32m   2719\u001b[0m \u001b[38;5;129m@_copy_docstring_and_deprecators\u001b[39m(Figure\u001b[38;5;241m.\u001b[39mwaitforbuttonpress)\n\u001b[0;32m   2720\u001b[0m \u001b[38;5;28;01mdef\u001b[39;00m\u001b[38;5;250m \u001b[39m\u001b[38;5;21mwaitforbuttonpress\u001b[39m(timeout: \u001b[38;5;28mfloat\u001b[39m \u001b[38;5;241m=\u001b[39m \u001b[38;5;241m-\u001b[39m\u001b[38;5;241m1\u001b[39m) \u001b[38;5;241m-\u001b[39m\u001b[38;5;241m>\u001b[39m \u001b[38;5;28;01mNone\u001b[39;00m \u001b[38;5;241m|\u001b[39m \u001b[38;5;28mbool\u001b[39m:\n\u001b[1;32m-> 2721\u001b[0m     \u001b[38;5;28;01mreturn\u001b[39;00m \u001b[43mgcf\u001b[49m\u001b[43m(\u001b[49m\u001b[43m)\u001b[49m\u001b[38;5;241;43m.\u001b[39;49m\u001b[43mwaitforbuttonpress\u001b[49m\u001b[43m(\u001b[49m\u001b[43mtimeout\u001b[49m\u001b[38;5;241;43m=\u001b[39;49m\u001b[43mtimeout\u001b[49m\u001b[43m)\u001b[49m\n",
      "File \u001b[1;32m~\\AppData\\Roaming\\Python\\Python39\\site-packages\\matplotlib\\figure.py:3501\u001b[0m, in \u001b[0;36mFigure.waitforbuttonpress\u001b[1;34m(self, timeout)\u001b[0m\n\u001b[0;32m   3498\u001b[0m     event \u001b[38;5;241m=\u001b[39m ev\n\u001b[0;32m   3499\u001b[0m     \u001b[38;5;28mself\u001b[39m\u001b[38;5;241m.\u001b[39mcanvas\u001b[38;5;241m.\u001b[39mstop_event_loop()\n\u001b[1;32m-> 3501\u001b[0m \u001b[43m_blocking_input\u001b[49m\u001b[38;5;241;43m.\u001b[39;49m\u001b[43mblocking_input_loop\u001b[49m\u001b[43m(\u001b[49m\n\u001b[0;32m   3502\u001b[0m \u001b[43m    \u001b[49m\u001b[38;5;28;43mself\u001b[39;49m\u001b[43m,\u001b[49m\u001b[43m \u001b[49m\u001b[43m[\u001b[49m\u001b[38;5;124;43m\"\u001b[39;49m\u001b[38;5;124;43mbutton_press_event\u001b[39;49m\u001b[38;5;124;43m\"\u001b[39;49m\u001b[43m,\u001b[49m\u001b[43m \u001b[49m\u001b[38;5;124;43m\"\u001b[39;49m\u001b[38;5;124;43mkey_press_event\u001b[39;49m\u001b[38;5;124;43m\"\u001b[39;49m\u001b[43m]\u001b[49m\u001b[43m,\u001b[49m\u001b[43m \u001b[49m\u001b[43mtimeout\u001b[49m\u001b[43m,\u001b[49m\u001b[43m \u001b[49m\u001b[43mhandler\u001b[49m\u001b[43m)\u001b[49m\n\u001b[0;32m   3504\u001b[0m \u001b[38;5;28;01mreturn\u001b[39;00m \u001b[38;5;28;01mNone\u001b[39;00m \u001b[38;5;28;01mif\u001b[39;00m event \u001b[38;5;129;01mis\u001b[39;00m \u001b[38;5;28;01mNone\u001b[39;00m \u001b[38;5;28;01melse\u001b[39;00m event\u001b[38;5;241m.\u001b[39mname \u001b[38;5;241m==\u001b[39m \u001b[38;5;124m\"\u001b[39m\u001b[38;5;124mkey_press_event\u001b[39m\u001b[38;5;124m\"\u001b[39m\n",
      "File \u001b[1;32m~\\AppData\\Roaming\\Python\\Python39\\site-packages\\matplotlib\\_blocking_input.py:26\u001b[0m, in \u001b[0;36mblocking_input_loop\u001b[1;34m(figure, event_names, timeout, handler)\u001b[0m\n\u001b[0;32m     24\u001b[0m cids \u001b[38;5;241m=\u001b[39m [figure\u001b[38;5;241m.\u001b[39mcanvas\u001b[38;5;241m.\u001b[39mmpl_connect(name, handler) \u001b[38;5;28;01mfor\u001b[39;00m name \u001b[38;5;129;01min\u001b[39;00m event_names]\n\u001b[0;32m     25\u001b[0m \u001b[38;5;28;01mtry\u001b[39;00m:\n\u001b[1;32m---> 26\u001b[0m     \u001b[43mfigure\u001b[49m\u001b[38;5;241;43m.\u001b[39;49m\u001b[43mcanvas\u001b[49m\u001b[38;5;241;43m.\u001b[39;49m\u001b[43mstart_event_loop\u001b[49m\u001b[43m(\u001b[49m\u001b[43mtimeout\u001b[49m\u001b[43m)\u001b[49m  \u001b[38;5;66;03m# Start event loop.\u001b[39;00m\n\u001b[0;32m     27\u001b[0m \u001b[38;5;28;01mfinally\u001b[39;00m:  \u001b[38;5;66;03m# Run even on exception like ctrl-c.\u001b[39;00m\n\u001b[0;32m     28\u001b[0m     \u001b[38;5;66;03m# Disconnect the callbacks.\u001b[39;00m\n\u001b[0;32m     29\u001b[0m     \u001b[38;5;28;01mfor\u001b[39;00m cid \u001b[38;5;129;01min\u001b[39;00m cids:\n",
      "File \u001b[1;32m~\\AppData\\Roaming\\Python\\Python39\\site-packages\\matplotlib\\backend_bases.py:2406\u001b[0m, in \u001b[0;36mFigureCanvasBase.start_event_loop\u001b[1;34m(self, timeout)\u001b[0m\n\u001b[0;32m   2404\u001b[0m \u001b[38;5;28;01mwhile\u001b[39;00m \u001b[38;5;28mself\u001b[39m\u001b[38;5;241m.\u001b[39m_looping \u001b[38;5;129;01mand\u001b[39;00m counter \u001b[38;5;241m*\u001b[39m timestep \u001b[38;5;241m<\u001b[39m timeout:\n\u001b[0;32m   2405\u001b[0m     \u001b[38;5;28mself\u001b[39m\u001b[38;5;241m.\u001b[39mflush_events()\n\u001b[1;32m-> 2406\u001b[0m     \u001b[43mtime\u001b[49m\u001b[38;5;241;43m.\u001b[39;49m\u001b[43msleep\u001b[49m\u001b[43m(\u001b[49m\u001b[43mtimestep\u001b[49m\u001b[43m)\u001b[49m\n\u001b[0;32m   2407\u001b[0m     counter \u001b[38;5;241m+\u001b[39m\u001b[38;5;241m=\u001b[39m \u001b[38;5;241m1\u001b[39m\n",
      "\u001b[1;31mKeyboardInterrupt\u001b[0m: "
     ]
    },
    {
     "data": {
      "image/png": "[encoded data removed]",
      "text/plain": [
       "<Figure size 640x480 with 1 Axes>"
      ]
     },
     "metadata": {},
     "output_type": "display_data"
    }
   ],
   "source": [
    "I4=np.zeros((I.shape[0],I.shape[1],3),dtype=np.uint8)  #sıfırlardan oluşan bir matris oluşturdum\n",
    "print(I4.shape) #boyutlarını yazdırdım\n",
    "print(I4.dtype) #veri tipini yazdırdım\n",
    "print(I4[10,10]) #10,10 olan pikselin bgr değerlerini yazdırdım\n",
    "print(I4) #matrisi yazdırdım\n",
    "\n",
    "I_b =I4[:,:,0]\n",
    "print(I_b.shape)\n",
    "I_g =I4[:,:,1]\n",
    "I_r =I4[:,:,2]\n",
    "\n",
    "I4[:,:,0] = I_r\n",
    "I4[:,:,1] = I_g\n",
    "I4[:,:,2] = I_b\n",
    "\n",
    "\n",
    "plt.figure()\n",
    "plt.imshow(I4)\n",
    "plt.waitforbuttonpress(0)\n",
    "plt.close()"
   ]
  },
  {
   "cell_type": "code",
   "execution_count": 25,
   "id": "c49a31d92608f24a",
   "metadata": {
    "ExecuteTime": {
     "end_time": "2025-02-27T15:40:50.544423Z",
     "start_time": "2025-02-27T15:40:44.259693Z"
    }
   },
   "outputs": [
    {
     "name": "stdout",
     "output_type": "stream",
     "text": [
      "(384, 512, 3)\n"
     ]
    }
   ],
   "source": [
    "I5_b,I5_g,I5_r=cv2.split(I) #resmi bgr olarak ayırdım\n",
    "I6=cv2.merge([I5_r,I5_g,I5_b]) #resmi rgb olarak birleştirdim\n",
    "print(I6.shape) #boyutlarını yazdırdım\n",
    "\n",
    "cv2.imshow(\"example\",I6)\n",
    "cv2.waitKey(0)\n",
    "cv2.destroyAllWindows()\n",
    "\n",
    "# plt.imshow(I6)\n",
    "# plt.waitforbuttonpress(0)\n",
    "# plt.close()"
   ]
  },
  {
   "cell_type": "code",
   "execution_count": null,
   "id": "58d301665a8e6472",
   "metadata": {},
   "outputs": [],
   "source": [
    "I7=I[:,:,::-1] #resmi ters çevirdim\n",
    "plt.imshow(I7) #resmi gösterdim\n",
    "plt.waitforbuttonpress(0) #bekleme süresi\n",
    "plt.close() #pencereleri kapatma"
   ]
  },
  {
   "cell_type": "code",
   "execution_count": 26,
   "id": "adc6fff2e0476754",
   "metadata": {
    "ExecuteTime": {
     "end_time": "2025-02-27T15:41:44.937159Z",
     "start_time": "2025-02-27T15:41:43.393612Z"
    }
   },
   "outputs": [
    {
     "name": "stdout",
     "output_type": "stream",
     "text": [
      "(384, 512, 3)\n",
      "(384, 512)\n"
     ]
    }
   ],
   "source": [
    "print(I.shape)\n",
    "I8=cv2.cvtColor(I,cv2.COLOR_BGR2GRAY) # COLOR_BGR2HSV\n",
    "print(I8.shape)\n",
    "\n",
    "cv2.imshow(\"example\",I8)\n",
    "cv2.waitKey(0)\n",
    "cv2.destroyAllWindows()"
   ]
  },
  {
   "cell_type": "code",
   "execution_count": null,
   "id": "646582b110edd678",
   "metadata": {},
   "outputs": [],
   "source": [
    "#Resim kaydetme 1\n",
    "\n",
    "# cv2.imwrite(\"peppers_gray.tif\",I8)\n",
    "\n",
    "#Resim kaydetme 2\n",
    "\n",
    "# plt.imshow(I8,cmap='gray',interpolation='Nearest')\n",
    "# plt.savefig('peppers_gray2.tif',dpi=600)\n",
    "# plt.waitforbuttonpress()\n",
    "# plt.close()\n"
   ]
  },
  {
   "cell_type": "code",
   "execution_count": 27,
   "id": "386961a9b232315d",
   "metadata": {
    "ExecuteTime": {
     "end_time": "2025-02-27T15:42:54.829370Z",
     "start_time": "2025-02-27T15:42:52.989445Z"
    }
   },
   "outputs": [],
   "source": [
    "\n",
    "I2=I.copy() #ı yı ı2 ye kopayaladım artık ı2 değişiklik yapabilirim bu ı yı etkilemez\n",
    "cv2.line(I2,(100,100),(200,200),(255,0,0),thickness=3) # 3 kalınlığında mavi bir çizgi çizdim\n",
    "cv2.imshow('example',I2)\n",
    "cv2.waitKey(0)\n",
    "cv2.destroyAllWindows()"
   ]
  },
  {
   "cell_type": "markdown",
   "id": "b7b49d77855b0af1",
   "metadata": {},
   "source": [
    "Morfoloji\n"
   ]
  },
  {
   "cell_type": "code",
   "execution_count": 28,
   "id": "50f5c9b0c0f50aca",
   "metadata": {
    "ExecuteTime": {
     "end_time": "2025-02-27T15:43:28.393710Z",
     "start_time": "2025-02-27T15:43:28.367037Z"
    }
   },
   "outputs": [
    {
     "ename": "AttributeError",
     "evalue": "'NoneType' object has no attribute 'shape'",
     "output_type": "error",
     "traceback": [
      "\u001b[1;31m---------------------------------------------------------------------------\u001b[0m",
      "\u001b[1;31mAttributeError\u001b[0m                            Traceback (most recent call last)",
      "Cell \u001b[1;32mIn[28], line 2\u001b[0m\n\u001b[0;32m      1\u001b[0m i \u001b[38;5;241m=\u001b[39m cv2\u001b[38;5;241m.\u001b[39mimread(\u001b[38;5;124m'\u001b[39m\u001b[38;5;124m./images/fig1.jpg\u001b[39m\u001b[38;5;124m'\u001b[39m) \u001b[38;5;66;03m#resmi okuttum   default : 1 oluyor istersek yazabiliriz\u001b[39;00m\n\u001b[1;32m----> 2\u001b[0m \u001b[38;5;28mprint\u001b[39m(\u001b[43mi\u001b[49m\u001b[38;5;241;43m.\u001b[39;49m\u001b[43mshape\u001b[49m) \u001b[38;5;66;03m#resmin boyutlarını yazdırdım\u001b[39;00m\n\u001b[0;32m      3\u001b[0m cv2\u001b[38;5;241m.\u001b[39mimshow(\u001b[38;5;124m'\u001b[39m\u001b[38;5;124mfig1\u001b[39m\u001b[38;5;124m'\u001b[39m,i) \u001b[38;5;66;03m#resmi gösterdim\u001b[39;00m\n\u001b[0;32m      4\u001b[0m cv2\u001b[38;5;241m.\u001b[39mwaitKey(\u001b[38;5;241m0\u001b[39m) \u001b[38;5;66;03m#bekleme süresi\u001b[39;00m\n",
      "\u001b[1;31mAttributeError\u001b[0m: 'NoneType' object has no attribute 'shape'"
     ]
    }
   ],
   "source": [
    "i = cv2.imread('./images/fig1.jpg') #resmi okuttum   default : 1 oluyor istersek yazabiliriz\n",
    "print(i.shape) #resmin boyutlarını yazdırdım\n",
    "cv2.imshow('fig1',i) #resmi gösterdim\n",
    "cv2.waitKey(0) #bekleme süresi\n",
    "cv2.destroyAllWindows() #pencereleri kapatma"
   ]
  },
  {
   "cell_type": "code",
   "execution_count": null,
   "id": "e2fed60cf5dfdec8",
   "metadata": {},
   "outputs": [],
   "source": [
    "se=cv2.getStructuringElement(cv2.MORPH_ELLIPSE,(40,40)) #40x40 lük bir elips şeklnde matris oluşturdum\n",
    "# print(se.shape)\n",
    "# print(se.dtype)\n",
    "# print(se)\n",
    "i1=cv2.erode(i,se,iterations=1) #resmi erode ettim 1 iterasyon yaptım\n",
    "\n",
    "# cv2.imshow('fig1',i1) #resmi gösterdim\n",
    "# cv2.waitKey(0) #bekleme süresi\n",
    "# cv2.destroyAllWindows() #pencereleri kapatma\n",
    "# print(np.max(i1)) #en büyük değeri yazdırdım"
   ]
  },
  {
   "cell_type": "code",
   "execution_count": null,
   "id": "b09091a0ded27e5",
   "metadata": {},
   "outputs": [],
   "source": [
    "#se2=np.array([[0,255,255,255,255,255,255,255,255,255,255,255,255,255,255,255,255,255,255,255,255,0]],dtype=np.uint8) #1x22 lik bir matris oluşturdum yani bir satır 22 sütun\n",
    "# se2=np.array([[0,255,255,255,255,255,255,255,255,255,255,255,255,255,255,255,255,255,255,255,255,0]],dtype=np.uint8).T #22x1 lik bir matris oluşturdum yani 22 satır 1 sütun\n",
    "# print(se2.shape)\n",
    "# print(se2.dtype)\n",
    "# print(se2)\n",
    "# i2=cv2.erode(i,se2) #resmi erode ettim 1 iterasyon yaptım\n",
    "\n",
    "# cv2.imshow('fig1',i2) #resmi gösterdim\n",
    "# cv2.waitKey(0) #bekleme süresi\n",
    "# cv2.destroyAllWindows() #pencereleri kapatma"
   ]
  }
 ],
 "metadata": {
  "kernelspec": {
   "display_name": "base",
   "language": "python",
   "name": "python3"
  },
  "language_info": {
   "codemirror_mode": {
    "name": "ipython",
    "version": 2
   },
   "file_extension": ".py",
   "mimetype": "text/x-python",
   "name": "python",
   "nbconvert_exporter": "python",
   "pygments_lexer": "ipython2",
   "version": "3.9.12"
  }
 },
 "nbformat": 4,
 "nbformat_minor": 5
}
